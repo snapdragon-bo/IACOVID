{
  "nbformat": 4,
  "nbformat_minor": 0,
  "metadata": {
    "colab": {
      "name": "COVIDNet.ipynb",
      "provenance": [],
      "collapsed_sections": [],
      "toc_visible": true
    },
    "kernelspec": {
      "name": "python3",
      "display_name": "Python 3"
    },
    "accelerator": "GPU"
  },
  "cells": [
    {
      "cell_type": "markdown",
      "metadata": {
        "id": "-TJJOOlgfUS5",
        "colab_type": "text"
      },
      "source": [
        "# DATASET EXTRACTION"
      ]
    },
    {
      "cell_type": "markdown",
      "metadata": {
        "id": "a_ZM9zRc_hfZ",
        "colab_type": "text"
      },
      "source": [
        "## Import datasets and github\n",
        "* Clone chestxray dataset from the github link https://github.com/ieee8023/covid-chestxray-dataset.git\n",
        "\n",
        "* RSNA Pneumonia Detection Challenge dataset\n",
        "https://www.kaggle.com/c/rsna-pneumonia-detection-challenge and unzip rsna_dataset here"
      ]
    },
    {
      "cell_type": "code",
      "metadata": {
        "id": "Mupjv71A_BZ8",
        "colab_type": "code",
        "colab": {
          "base_uri": "https://localhost:8080/",
          "height": 121
        },
        "outputId": "59d90aca-759f-4890-e6d0-9a4b96ce7750"
      },
      "source": [
        "from google.colab import drive\n",
        "drive.mount('/content/drive')"
      ],
      "execution_count": 2,
      "outputs": [
        {
          "output_type": "stream",
          "text": [
            "Go to this URL in a browser: https://accounts.google.com/o/oauth2/auth?client_id=947318989803-6bn6qk8qdgf4n4g3pfee6491hc0brc4i.apps.googleusercontent.com&redirect_uri=urn%3aietf%3awg%3aoauth%3a2.0%3aoob&response_type=code&scope=email%20https%3a%2f%2fwww.googleapis.com%2fauth%2fdocs.test%20https%3a%2f%2fwww.googleapis.com%2fauth%2fdrive%20https%3a%2f%2fwww.googleapis.com%2fauth%2fdrive.photos.readonly%20https%3a%2f%2fwww.googleapis.com%2fauth%2fpeopleapi.readonly\n",
            "\n",
            "Enter your authorization code:\n",
            "··········\n",
            "Mounted at /content/drive\n"
          ],
          "name": "stdout"
        }
      ]
    },
    {
      "cell_type": "code",
      "metadata": {
        "id": "kG5w1SXpEutA",
        "colab_type": "code",
        "outputId": "18de68b9-4a8a-49c3-e434-6ed8834f7f48",
        "colab": {
          "base_uri": "https://localhost:8080/",
          "height": 67
        }
      },
      "source": [
        "! git clone https://github.com/ieee8023/covid-chestxray-dataset.git\n",
        "! git clone https://github.com/IliasPap/COVIDNet.git\n",
        "COPY_FILE = True\n",
        "! mkdir /content/rsna_dataset\n",
        "# add code for uploading Kaggle JSON file (individual token)",
        "from google.colab import files",
        "files.upload()",
        "!mkdir -p ~/.kaggle",
        "!cp kaggle.json ~/.kaggle/",
        "# To prevent permission warning",
        "!chmod 600 ~/.kaggle/kaggle.json",
        "# Otherwise use kaggle commands, to be updated !!!!\n",
        "# ! kaggle competitions download -c rsna-pneumonia-detection-challenge -p /content/rsna_dataset\n",
        "! unzip -q '/content/drive/My Drive/MEDICAL/rsna-pneumonia-detection-challenge.zip' -d /content/rsna_dataset/\n"
      ],
      "execution_count": 9,
      "outputs": [
        {
          "output_type": "stream",
          "text": [
            "fatal: destination path 'covid-chestxray-dataset' already exists and is not an empty directory.\n",
            "fatal: destination path 'COVIDNet' already exists and is not an empty directory.\n",
            "mkdir: cannot create directory ‘/content/rsna_dataset’: File exists\n"
          ],
          "name": "stdout"
        }
      ]
    },
    {
      "cell_type": "code",
      "metadata": {
        "id": "z5wJrNmlhvjT",
        "colab_type": "code",
        "outputId": "8b591a26-a03a-4f84-a49a-7a8cf67c6987",
        "colab": {
          "base_uri": "https://localhost:8080/",
          "height": 34
        }
      },
      "source": [
        "! pip install pydicom\n",
        "import numpy as np\n",
        "import pandas as pd\n",
        "import os\n",
        "import random \n",
        "from shutil import copyfile\n",
        "import pydicom as dicom\n",
        "import cv2"
      ],
      "execution_count": 10,
      "outputs": [
        {
          "output_type": "stream",
          "text": [
            "Requirement already satisfied: pydicom in /usr/local/lib/python3.6/dist-packages (1.4.2)\n"
          ],
          "name": "stdout"
        }
      ]
    },
    {
      "cell_type": "code",
      "metadata": {
        "id": "SWIYPPL9h1xZ",
        "colab_type": "code",
        "colab": {}
      },
      "source": [
        "\n",
        "seed = 0\n",
        "np.random.seed(seed) # Reset the seed so all runs are the same.\n",
        "random.seed(seed)\n",
        "MAXVAL = 255  # Range [0 255]\n",
        "root = '/content/covid-chestxray-dataset'\n",
        "\n",
        "if (COPY_FILE):\n",
        "    savepath = root + '/data'\n",
        "    if(not os.path.exists(savepath)):\n",
        "        os.makedirs(savepath)\n",
        "    savepath = root + '/data/train'\n",
        "    if(not os.path.exists(savepath)):\n",
        "        os.makedirs(savepath)\n",
        "    savepath = root + '/data/test'\n",
        "    if(not os.path.exists(savepath)):\n",
        "        os.makedirs(savepath)\n",
        "\n",
        "savepath = root + '/data'\n",
        "# path to covid-19 dataset from https://github.com/ieee8023/covid-chestxray-dataset\n",
        "imgpath = root + '/images' \n",
        "csvpath = root + '/metadata.csv'\n",
        "\n",
        "# path to https://www.kaggle.com/c/rsna-pneumonia-detection-challenge\n",
        "kaggle_datapath = '/content/rsna_kaggle_dataset'\n",
        "kaggle_csvname = 'stage_2_detailed_class_info.csv' # get all the normal from here\n",
        "kaggle_csvname2 = 'stage_2_train_labels.csv' # get all the 1s from here since 1 indicate pneumonia\n",
        "kaggle_imgpath = 'stage_2_train_images'\n",
        "\n",
        "# parameters for COVIDx dataset\n",
        "train = []\n",
        "test = []\n",
        "test_count = {'normal': 0, 'pneumonia': 0, 'COVID-19': 0}\n",
        "train_count = {'normal': 0, 'pneumonia': 0, 'COVID-19': 0}\n",
        "\n",
        "mapping = dict()\n",
        "mapping['COVID-19'] = 'COVID-19'\n",
        "mapping['SARS'] = 'pneumonia'\n",
        "mapping['MERS'] = 'pneumonia'\n",
        "mapping['Streptococcus'] = 'pneumonia'\n",
        "mapping['Normal'] = 'normal'\n",
        "mapping['Lung Opacity'] = 'pneumonia'\n",
        "mapping['1'] = 'pneumonia'\n",
        "\n",
        "# train/test split\n",
        "split = 0.1"
      ],
      "execution_count": 0,
      "outputs": []
    },
    {
      "cell_type": "code",
      "metadata": {
        "id": "0A40xmYriH6t",
        "colab_type": "code",
        "colab": {}
      },
      "source": [
        "# adapted from https://github.com/mlmed/torchxrayvision/blob/master/torchxrayvision/datasets.py#L814\n",
        "csv = pd.read_csv(csvpath, nrows=None)\n",
        "idx_pa = csv[\"view\"] == \"PA\"  # Keep only the PA view\n",
        "csv = csv[idx_pa]\n",
        "\n",
        "pneumonias = [\"COVID-19\", \"SARS\", \"MERS\", \"ARDS\", \"Streptococcus\"]\n",
        "pathologies = [\"Pneumonia\",\"Viral Pneumonia\", \"Bacterial Pneumonia\", \"No Finding\"] + pneumonias\n",
        "pathologies = sorted(pathologies)"
      ],
      "execution_count": 0,
      "outputs": []
    },
    {
      "cell_type": "code",
      "metadata": {
        "id": "3oCGULcBibv-",
        "colab_type": "code",
        "outputId": "d25dc89b-c9d0-4f6e-f3ba-87b7a954b87e",
        "colab": {
          "base_uri": "https://localhost:8080/",
          "height": 168
        }
      },
      "source": [
        "# get non-COVID19 viral, bacteria, and COVID-19 infections from covid-chestxray-dataset\n",
        "# stored as patient id, image filename and label\n",
        "filename_label = {'normal': [], 'pneumonia': [], 'COVID-19': []}\n",
        "count = {'normal': 0, 'pneumonia': 0, 'COVID-19': 0}\n",
        "print(csv.keys())\n",
        "for index, row in csv.iterrows():\n",
        "    f = row['finding']\n",
        "    if f in mapping:\n",
        "        count[mapping[f]] += 1\n",
        "        entry = [int(row['patientid']), row['filename'], mapping[f]]\n",
        "        filename_label[mapping[f]].append(entry)\n",
        "\n",
        "print('Data distribution from covid-chestxray-dataset:')\n",
        "print(count)"
      ],
      "execution_count": 13,
      "outputs": [
        {
          "output_type": "stream",
          "text": [
            "Index(['patientid', 'offset', 'sex', 'age', 'finding', 'survival', 'intubated',\n",
            "       'intubation_present', 'went_icu', 'needed_supplemental_O2', 'extubated',\n",
            "       'temperature', 'pO2_saturation', 'leukocyte_count', 'neutrophil_count',\n",
            "       'lymphocyte_count', 'view', 'modality', 'date', 'location', 'folder',\n",
            "       'filename', 'doi', 'url', 'license', 'clinical_notes', 'other_notes',\n",
            "       'Unnamed: 27'],\n",
            "      dtype='object')\n",
            "Data distribution from covid-chestxray-dataset:\n",
            "{'normal': 0, 'pneumonia': 29, 'COVID-19': 142}\n"
          ],
          "name": "stdout"
        }
      ]
    },
    {
      "cell_type": "code",
      "metadata": {
        "id": "QZXOLpHZiz3q",
        "colab_type": "code",
        "outputId": "581f165a-11a2-4909-db42-5d7737e1ddf6",
        "colab": {
          "base_uri": "https://localhost:8080/",
          "height": 118
        }
      },
      "source": [
        "# add covid-chestxray-dataset into COVIDx dataset\n",
        "# since covid-chestxray-dataset doesn't have test dataset\n",
        "# split into train/test by patientid\n",
        "# for COVIDx:\n",
        "# patient 8 is used as non-COVID19 viral test\n",
        "# patient 31 is used as bacterial test\n",
        "# patients 19, 20, 36, 42, 86 are used as COVID-19 viral test\n",
        "\n",
        "for key in filename_label.keys():\n",
        "    arr = np.array(filename_label[key])\n",
        "    if arr.size == 0:\n",
        "        continue\n",
        "    # split by patients\n",
        "    # num_diff_patients = len(np.unique(arr[:,0]))\n",
        "    # num_test = max(1, round(split*num_diff_patients))\n",
        "    # select num_test number of random patients\n",
        "    if key == 'pneumonia':\n",
        "        test_patients = ['8', '31']\n",
        "    elif key == 'COVID-19':\n",
        "        test_patients = ['19', '20', '36', '42', '86'] # random.sample(list(arr[:,0]), num_test)\n",
        "    else: \n",
        "        test_patients = []\n",
        "    print('Key: ', key)\n",
        "    print('Test patients: ', test_patients)\n",
        "    # go through all the patients\n",
        "    for patient in arr:\n",
        "        if patient[0] in test_patients:\n",
        "            if (COPY_FILE):\n",
        "                copyfile(os.path.join(imgpath, patient[1]), os.path.join(savepath, 'test', patient[1]))\n",
        "                test.append(patient)\n",
        "                test_count[patient[2]] += 1\n",
        "            else:\n",
        "                print(\"WARNING   :   passing copy file !!!!!!!!!!!!!!!!!!!!!!\")\n",
        "                break\n",
        "        else:\n",
        "            if (COPY_FILE):\n",
        "                copyfile(os.path.join(imgpath, patient[1]), os.path.join(savepath, 'train', patient[1]))\n",
        "                train.append(patient)\n",
        "                train_count[patient[2]] += 1\n",
        "\n",
        "            else:\n",
        "                print(\"WARNING   :   passing copy file !!!!!!!!!!!!!!!!!!!!!!\")\n",
        "                break\n",
        "\n",
        "print('test count: ', test_count)\n",
        "print('train count: ', train_count)"
      ],
      "execution_count": 14,
      "outputs": [
        {
          "output_type": "stream",
          "text": [
            "Key:  pneumonia\n",
            "Test patients:  ['8', '31']\n",
            "Key:  COVID-19\n",
            "Test patients:  ['19', '20', '36', '42', '86']\n",
            "test count:  {'normal': 0, 'pneumonia': 5, 'COVID-19': 10}\n",
            "train count:  {'normal': 0, 'pneumonia': 24, 'COVID-19': 132}\n"
          ],
          "name": "stdout"
        }
      ]
    },
    {
      "cell_type": "markdown",
      "metadata": {
        "id": "HW2HHFi1Dra2",
        "colab_type": "text"
      },
      "source": [
        "## Preprocess data\n",
        "Copy kaggle dataset inyto train and test folders"
      ]
    },
    {
      "cell_type": "code",
      "metadata": {
        "id": "PG-qk6gXjZIB",
        "colab_type": "code",
        "outputId": "a1d16342-4d5a-41a7-9b0e-5c7001b08eef",
        "colab": {
          "base_uri": "https://localhost:8080/",
          "height": 67
        }
      },
      "source": [
        "# add normal and rest of pneumonia cases from https://www.kaggle.com/c/rsna-pneumonia-detection-challenge\n",
        "\n",
        "\n",
        "kaggle_datapath = '/content/rsna_dataset'\n",
        "\n",
        "print(kaggle_datapath)\n",
        "csv_normal = pd.read_csv(os.path.join(kaggle_datapath, kaggle_csvname), nrows=None)\n",
        "csv_pneu = pd.read_csv(os.path.join(kaggle_datapath, kaggle_csvname2), nrows=None)\n",
        "patients = {'normal': [], 'pneumonia': []}\n",
        "\n",
        "for index, row in csv_normal.iterrows():\n",
        "    if row['class'] == 'Normal':\n",
        "        patients['normal'].append(row['patientId'])\n",
        "\n",
        "for index, row in csv_pneu.iterrows():\n",
        "    if int(row['Target']) == 1:\n",
        "        patients['pneumonia'].append(row['patientId'])\n",
        "\n",
        "for key in patients.keys():\n",
        "    arr = np.array(patients[key])\n",
        "    if arr.size == 0:\n",
        "        continue\n",
        "    # split by patients \n",
        "    # num_diff_patients = len(np.unique(arr))\n",
        "    # num_test = max(1, round(split*num_diff_patients))\n",
        "    #'/content/COVID-Net/'\n",
        "    test_patients = np.load('/content/COVIDNet/rsna_test_patients_{}.npy'.format(key)) # random.sample(list(arr), num_test)\n",
        "    # np.save('rsna_test_patients_{}.npy'.format(key), np.array(test_patients))\n",
        "    for patient in arr:\n",
        "        ds = dicom.dcmread(os.path.join(kaggle_datapath, kaggle_imgpath, patient + '.dcm'))\n",
        "        pixel_array_numpy = ds.pixel_array\n",
        "        imgname = patient + '.png'\n",
        "        if patient in test_patients:\n",
        "            if (COPY_FILE):\n",
        "                cv2.imwrite(os.path.join(savepath, 'test', imgname), pixel_array_numpy)\n",
        "                test.append([patient, imgname, key])\n",
        "                test_count[key] += 1\n",
        "            else:\n",
        "                print(\"WARNING   :   passing copy file !!!!!!!!!!!!!!!!!!!!!!\")\n",
        "                break\n",
        "        else:\n",
        "            if (COPY_FILE):\n",
        "                cv2.imwrite(os.path.join(savepath, 'train', imgname), pixel_array_numpy)\n",
        "                train.append([patient, imgname, key])\n",
        "                train_count[key] += 1\n",
        "            else:\n",
        "                print(\"WARNING   :   passing copy file !!!!!!!!!!!!!!!!!!!!!!\")\n",
        "                break\n",
        "print('test count: ', test_count)\n",
        "print('train count: ', train_count)"
      ],
      "execution_count": 15,
      "outputs": [
        {
          "output_type": "stream",
          "text": [
            "/content/rsna_dataset\n",
            "test count:  {'normal': 885, 'pneumonia': 1058, 'COVID-19': 10}\n",
            "train count:  {'normal': 7966, 'pneumonia': 8526, 'COVID-19': 132}\n"
          ],
          "name": "stdout"
        }
      ]
    },
    {
      "cell_type": "markdown",
      "metadata": {
        "id": "9DQ4gYQkDxt_",
        "colab_type": "text"
      },
      "source": [
        "## Final data stats"
      ]
    },
    {
      "cell_type": "code",
      "metadata": {
        "id": "rofg8ddlX28e",
        "colab_type": "code",
        "outputId": "d873753e-e43e-4967-dccf-e26aaed15e32",
        "colab": {
          "base_uri": "https://localhost:8080/",
          "height": 101
        }
      },
      "source": [
        "# final stats\n",
        "print('Final stats')\n",
        "print('Train count: ', train_count)\n",
        "print('Test count: ', test_count)\n",
        "print('Total length of train: ', len(train))\n",
        "print('Total length of test: ', len(test))"
      ],
      "execution_count": 16,
      "outputs": [
        {
          "output_type": "stream",
          "text": [
            "Final stats\n",
            "Train count:  {'normal': 7966, 'pneumonia': 8526, 'COVID-19': 132}\n",
            "Test count:  {'normal': 885, 'pneumonia': 1058, 'COVID-19': 10}\n",
            "Total length of train:  16624\n",
            "Total length of test:  1953\n"
          ],
          "name": "stdout"
        }
      ]
    },
    {
      "cell_type": "markdown",
      "metadata": {
        "id": "zruYtB-8D1y4",
        "colab_type": "text"
      },
      "source": [
        "## train and test file extraction"
      ]
    },
    {
      "cell_type": "code",
      "metadata": {
        "id": "xh_E3s-AX3sm",
        "colab_type": "code",
        "colab": {}
      },
      "source": [
        "# export to train and test csv\n",
        "# format as patientid, filename, label, separated by a space\n",
        "train_file = open(\"train_split_v2.txt\",\"w\") \n",
        "for sample in train:\n",
        "    info = str(sample[0]) + ' ' + sample[1] + ' ' + sample[2] + '\\n'\n",
        "    train_file.write(info)\n",
        "\n",
        "train_file.close()\n",
        "\n",
        "test_file = open(\"test_split_v2.txt\", \"w\")\n",
        "for sample in test:\n",
        "    info = str(sample[0]) + ' ' + sample[1] + ' ' + sample[2] + '\\n'\n",
        "    test_file.write(info)\n",
        "\n",
        "test_file.close()"
      ],
      "execution_count": 0,
      "outputs": []
    },
    {
      "cell_type": "markdown",
      "metadata": {
        "id": "K1Z22FipJrgn",
        "colab_type": "text"
      },
      "source": [
        "# Requirements"
      ]
    },
    {
      "cell_type": "code",
      "metadata": {
        "id": "QuSxkmuebDuv",
        "colab_type": "code",
        "colab": {}
      },
      "source": [
        "! pip install torch torcvision pandas"
      ],
      "execution_count": 0,
      "outputs": []
    },
    {
      "cell_type": "markdown",
      "metadata": {
        "id": "kZkurGVMKFPf",
        "colab_type": "text"
      },
      "source": [
        "# Training"
      ]
    },
    {
      "cell_type": "code",
      "metadata": {
        "id": "G9t--VlR7_F6",
        "colab_type": "code",
        "colab": {
          "base_uri": "https://localhost:8080/",
          "height": 1000
        },
        "outputId": "eadc51a7-ec83-4d52-a23a-ced6be945d18"
      },
      "source": [
        "%cd COVIDNet\n",
        "! python main.py --dataset_name='COVIDx' --root_path='/content/covid-chestxray-dataset/data'"
      ],
      "execution_count": 26,
      "outputs": [
        {
          "output_type": "stream",
          "text": [
            "[Errno 2] No such file or directory: 'COVIDNet'\n",
            "/content/COVIDNet\n",
            "train examples =  16590\n",
            "test examples =  1953\n",
            "CovidNet(\n",
            "  (conv1): Conv2d(3, 64, kernel_size=(7, 7), stride=(2, 2), padding=(3, 3))\n",
            "  (pexp1_1): PEXP(\n",
            "    (network): Sequential(\n",
            "      (0): Conv2d(64, 32, kernel_size=(1, 1), stride=(1, 1))\n",
            "      (1): Conv2d(32, 48, kernel_size=(1, 1), stride=(1, 1))\n",
            "      (2): Conv2d(48, 48, kernel_size=(3, 3), stride=(1, 1), padding=(1, 1), groups=48)\n",
            "      (3): Conv2d(48, 32, kernel_size=(1, 1), stride=(1, 1))\n",
            "      (4): Conv2d(32, 256, kernel_size=(1, 1), stride=(1, 1))\n",
            "    )\n",
            "  )\n",
            "  (pexp1_2): PEXP(\n",
            "    (network): Sequential(\n",
            "      (0): Conv2d(256, 128, kernel_size=(1, 1), stride=(1, 1))\n",
            "      (1): Conv2d(128, 192, kernel_size=(1, 1), stride=(1, 1))\n",
            "      (2): Conv2d(192, 192, kernel_size=(3, 3), stride=(1, 1), padding=(1, 1), groups=192)\n",
            "      (3): Conv2d(192, 128, kernel_size=(1, 1), stride=(1, 1))\n",
            "      (4): Conv2d(128, 256, kernel_size=(1, 1), stride=(1, 1))\n",
            "    )\n",
            "  )\n",
            "  (pexp1_3): PEXP(\n",
            "    (network): Sequential(\n",
            "      (0): Conv2d(256, 128, kernel_size=(1, 1), stride=(1, 1))\n",
            "      (1): Conv2d(128, 192, kernel_size=(1, 1), stride=(1, 1))\n",
            "      (2): Conv2d(192, 192, kernel_size=(3, 3), stride=(1, 1), padding=(1, 1), groups=192)\n",
            "      (3): Conv2d(192, 128, kernel_size=(1, 1), stride=(1, 1))\n",
            "      (4): Conv2d(128, 256, kernel_size=(1, 1), stride=(1, 1))\n",
            "    )\n",
            "  )\n",
            "  (pexp2_1): PEXP(\n",
            "    (network): Sequential(\n",
            "      (0): Conv2d(256, 128, kernel_size=(1, 1), stride=(1, 1))\n",
            "      (1): Conv2d(128, 192, kernel_size=(1, 1), stride=(1, 1))\n",
            "      (2): Conv2d(192, 192, kernel_size=(3, 3), stride=(1, 1), padding=(1, 1), groups=192)\n",
            "      (3): Conv2d(192, 128, kernel_size=(1, 1), stride=(1, 1))\n",
            "      (4): Conv2d(128, 512, kernel_size=(1, 1), stride=(1, 1))\n",
            "    )\n",
            "  )\n",
            "  (pexp2_2): PEXP(\n",
            "    (network): Sequential(\n",
            "      (0): Conv2d(512, 256, kernel_size=(1, 1), stride=(1, 1))\n",
            "      (1): Conv2d(256, 384, kernel_size=(1, 1), stride=(1, 1))\n",
            "      (2): Conv2d(384, 384, kernel_size=(3, 3), stride=(1, 1), padding=(1, 1), groups=384)\n",
            "      (3): Conv2d(384, 256, kernel_size=(1, 1), stride=(1, 1))\n",
            "      (4): Conv2d(256, 512, kernel_size=(1, 1), stride=(1, 1))\n",
            "    )\n",
            "  )\n",
            "  (pexp2_3): PEXP(\n",
            "    (network): Sequential(\n",
            "      (0): Conv2d(512, 256, kernel_size=(1, 1), stride=(1, 1))\n",
            "      (1): Conv2d(256, 384, kernel_size=(1, 1), stride=(1, 1))\n",
            "      (2): Conv2d(384, 384, kernel_size=(3, 3), stride=(1, 1), padding=(1, 1), groups=384)\n",
            "      (3): Conv2d(384, 256, kernel_size=(1, 1), stride=(1, 1))\n",
            "      (4): Conv2d(256, 512, kernel_size=(1, 1), stride=(1, 1))\n",
            "    )\n",
            "  )\n",
            "  (pexp2_4): PEXP(\n",
            "    (network): Sequential(\n",
            "      (0): Conv2d(512, 256, kernel_size=(1, 1), stride=(1, 1))\n",
            "      (1): Conv2d(256, 384, kernel_size=(1, 1), stride=(1, 1))\n",
            "      (2): Conv2d(384, 384, kernel_size=(3, 3), stride=(1, 1), padding=(1, 1), groups=384)\n",
            "      (3): Conv2d(384, 256, kernel_size=(1, 1), stride=(1, 1))\n",
            "      (4): Conv2d(256, 512, kernel_size=(1, 1), stride=(1, 1))\n",
            "    )\n",
            "  )\n",
            "  (pexp3_1): PEXP(\n",
            "    (network): Sequential(\n",
            "      (0): Conv2d(512, 256, kernel_size=(1, 1), stride=(1, 1))\n",
            "      (1): Conv2d(256, 384, kernel_size=(1, 1), stride=(1, 1))\n",
            "      (2): Conv2d(384, 384, kernel_size=(3, 3), stride=(1, 1), padding=(1, 1), groups=384)\n",
            "      (3): Conv2d(384, 256, kernel_size=(1, 1), stride=(1, 1))\n",
            "      (4): Conv2d(256, 1024, kernel_size=(1, 1), stride=(1, 1))\n",
            "    )\n",
            "  )\n",
            "  (pexp3_2): PEXP(\n",
            "    (network): Sequential(\n",
            "      (0): Conv2d(1024, 512, kernel_size=(1, 1), stride=(1, 1))\n",
            "      (1): Conv2d(512, 768, kernel_size=(1, 1), stride=(1, 1))\n",
            "      (2): Conv2d(768, 768, kernel_size=(3, 3), stride=(1, 1), padding=(1, 1), groups=768)\n",
            "      (3): Conv2d(768, 512, kernel_size=(1, 1), stride=(1, 1))\n",
            "      (4): Conv2d(512, 1024, kernel_size=(1, 1), stride=(1, 1))\n",
            "    )\n",
            "  )\n",
            "  (pexp3_3): PEXP(\n",
            "    (network): Sequential(\n",
            "      (0): Conv2d(1024, 512, kernel_size=(1, 1), stride=(1, 1))\n",
            "      (1): Conv2d(512, 768, kernel_size=(1, 1), stride=(1, 1))\n",
            "      (2): Conv2d(768, 768, kernel_size=(3, 3), stride=(1, 1), padding=(1, 1), groups=768)\n",
            "      (3): Conv2d(768, 512, kernel_size=(1, 1), stride=(1, 1))\n",
            "      (4): Conv2d(512, 1024, kernel_size=(1, 1), stride=(1, 1))\n",
            "    )\n",
            "  )\n",
            "  (pexp3_4): PEXP(\n",
            "    (network): Sequential(\n",
            "      (0): Conv2d(1024, 512, kernel_size=(1, 1), stride=(1, 1))\n",
            "      (1): Conv2d(512, 768, kernel_size=(1, 1), stride=(1, 1))\n",
            "      (2): Conv2d(768, 768, kernel_size=(3, 3), stride=(1, 1), padding=(1, 1), groups=768)\n",
            "      (3): Conv2d(768, 512, kernel_size=(1, 1), stride=(1, 1))\n",
            "      (4): Conv2d(512, 1024, kernel_size=(1, 1), stride=(1, 1))\n",
            "    )\n",
            "  )\n",
            "  (pexp3_5): PEXP(\n",
            "    (network): Sequential(\n",
            "      (0): Conv2d(1024, 512, kernel_size=(1, 1), stride=(1, 1))\n",
            "      (1): Conv2d(512, 768, kernel_size=(1, 1), stride=(1, 1))\n",
            "      (2): Conv2d(768, 768, kernel_size=(3, 3), stride=(1, 1), padding=(1, 1), groups=768)\n",
            "      (3): Conv2d(768, 512, kernel_size=(1, 1), stride=(1, 1))\n",
            "      (4): Conv2d(512, 1024, kernel_size=(1, 1), stride=(1, 1))\n",
            "    )\n",
            "  )\n",
            "  (pexp3_6): PEXP(\n",
            "    (network): Sequential(\n",
            "      (0): Conv2d(1024, 512, kernel_size=(1, 1), stride=(1, 1))\n",
            "      (1): Conv2d(512, 768, kernel_size=(1, 1), stride=(1, 1))\n",
            "      (2): Conv2d(768, 768, kernel_size=(3, 3), stride=(1, 1), padding=(1, 1), groups=768)\n",
            "      (3): Conv2d(768, 512, kernel_size=(1, 1), stride=(1, 1))\n",
            "      (4): Conv2d(512, 1024, kernel_size=(1, 1), stride=(1, 1))\n",
            "    )\n",
            "  )\n",
            "  (pexp4_1): PEXP(\n",
            "    (network): Sequential(\n",
            "      (0): Conv2d(1024, 512, kernel_size=(1, 1), stride=(1, 1))\n",
            "      (1): Conv2d(512, 768, kernel_size=(1, 1), stride=(1, 1))\n",
            "      (2): Conv2d(768, 768, kernel_size=(3, 3), stride=(1, 1), padding=(1, 1), groups=768)\n",
            "      (3): Conv2d(768, 512, kernel_size=(1, 1), stride=(1, 1))\n",
            "      (4): Conv2d(512, 2048, kernel_size=(1, 1), stride=(1, 1))\n",
            "    )\n",
            "  )\n",
            "  (pexp4_2): PEXP(\n",
            "    (network): Sequential(\n",
            "      (0): Conv2d(2048, 1024, kernel_size=(1, 1), stride=(1, 1))\n",
            "      (1): Conv2d(1024, 1536, kernel_size=(1, 1), stride=(1, 1))\n",
            "      (2): Conv2d(1536, 1536, kernel_size=(3, 3), stride=(1, 1), padding=(1, 1), groups=1536)\n",
            "      (3): Conv2d(1536, 1024, kernel_size=(1, 1), stride=(1, 1))\n",
            "      (4): Conv2d(1024, 2048, kernel_size=(1, 1), stride=(1, 1))\n",
            "    )\n",
            "  )\n",
            "  (pexp4_3): PEXP(\n",
            "    (network): Sequential(\n",
            "      (0): Conv2d(2048, 1024, kernel_size=(1, 1), stride=(1, 1))\n",
            "      (1): Conv2d(1024, 1536, kernel_size=(1, 1), stride=(1, 1))\n",
            "      (2): Conv2d(1536, 1536, kernel_size=(3, 3), stride=(1, 1), padding=(1, 1), groups=1536)\n",
            "      (3): Conv2d(1536, 1024, kernel_size=(1, 1), stride=(1, 1))\n",
            "      (4): Conv2d(1024, 2048, kernel_size=(1, 1), stride=(1, 1))\n",
            "    )\n",
            "  )\n",
            "  (conv1_1x1): Conv2d(64, 256, kernel_size=(1, 1), stride=(1, 1))\n",
            "  (conv2_1x1): Conv2d(256, 512, kernel_size=(1, 1), stride=(1, 1))\n",
            "  (conv3_1x1): Conv2d(512, 1024, kernel_size=(1, 1), stride=(1, 1))\n",
            "  (conv4_1x1): Conv2d(1024, 2048, kernel_size=(1, 1), stride=(1, 1))\n",
            "  (flatten): Flatten()\n",
            "  (fc1): Linear(in_features=100352, out_features=1024, bias=True)\n",
            "  (fc2): Linear(in_features=1024, out_features=256, bias=True)\n",
            "  (classifier): Linear(in_features=256, out_features=3, bias=True)\n",
            ")\n",
            "Checkpoint folder  /saved/COVIDNet20200424_0747\n",
            "2020-04-24 07:47:25.223194: I tensorflow/stream_executor/platform/default/dso_loader.cc:44] Successfully opened dynamic library libcudart.so.10.1\n",
            "('loss', 'correct', 'total', 'accuracy')\n",
            "Epoch: 1\tSample:    1/16592\tLoss:1.1249\tAccuracy:0.00\n",
            "Traceback (most recent call last):\n",
            "  File \"main.py\", line 72, in <module>\n",
            "    main()\n",
            "  File \"main.py\", line 33, in main\n",
            "    train(args, model, training_generator, optimizer, epoch, writer)\n",
            "  File \"/content/COVIDNet/trainer/train.py\", line 97, in train\n",
            "    loss.backward()\n",
            "  File \"/usr/local/lib/python3.6/dist-packages/torch/tensor.py\", line 195, in backward\n",
            "    torch.autograd.backward(self, gradient, retain_graph, create_graph)\n",
            "  File \"/usr/local/lib/python3.6/dist-packages/torch/autograd/__init__.py\", line 99, in backward\n",
            "    allow_unreachable=True)  # allow_unreachable flag\n",
            "KeyboardInterrupt\n"
          ],
          "name": "stdout"
        }
      ]
    }
  ]
}
