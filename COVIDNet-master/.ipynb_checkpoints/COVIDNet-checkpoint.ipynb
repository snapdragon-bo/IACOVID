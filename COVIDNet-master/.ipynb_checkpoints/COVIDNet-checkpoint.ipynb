{
 "cells": [
  {
   "cell_type": "markdown",
   "metadata": {
    "colab_type": "text",
    "id": "-TJJOOlgfUS5"
   },
   "source": [
    "# DATASET EXTRACTION"
   ]
  },
  {
   "cell_type": "markdown",
   "metadata": {
    "colab_type": "text",
    "id": "a_ZM9zRc_hfZ"
   },
   "source": [
    "## Import datasets and github\n",
    "* Clone chestxray dataset from the github link https://github.com/ieee8023/covid-chestxray-dataset.git\n",
    "\n",
    "* RSNA Pneumonia Detection Challenge dataset\n",
    "https://www.kaggle.com/c/rsna-pneumonia-detection-challenge and unzip rsna_dataset here"
   ]
  },
  {
   "cell_type": "code",
   "execution_count": 2,
   "metadata": {
    "colab": {
     "base_uri": "https://localhost:8080/",
     "height": 121
    },
    "colab_type": "code",
    "id": "Mupjv71A_BZ8",
    "outputId": "59d90aca-759f-4890-e6d0-9a4b96ce7750"
   },
   "outputs": [
    {
     "ename": "ModuleNotFoundError",
     "evalue": "No module named 'google.colab'",
     "output_type": "error",
     "traceback": [
      "\u001b[1;31m---------------------------------------------------------------------------\u001b[0m",
      "\u001b[1;31mModuleNotFoundError\u001b[0m                       Traceback (most recent call last)",
      "\u001b[1;32m<ipython-input-2-d5df0069828e>\u001b[0m in \u001b[0;36m<module>\u001b[1;34m\u001b[0m\n\u001b[1;32m----> 1\u001b[1;33m \u001b[1;32mfrom\u001b[0m \u001b[0mgoogle\u001b[0m\u001b[1;33m.\u001b[0m\u001b[0mcolab\u001b[0m \u001b[1;32mimport\u001b[0m \u001b[0mdrive\u001b[0m\u001b[1;33m\u001b[0m\u001b[1;33m\u001b[0m\u001b[0m\n\u001b[0m\u001b[0;32m      2\u001b[0m \u001b[0mdrive\u001b[0m\u001b[1;33m.\u001b[0m\u001b[0mmount\u001b[0m\u001b[1;33m(\u001b[0m\u001b[1;34m'/content/drive'\u001b[0m\u001b[1;33m)\u001b[0m\u001b[1;33m\u001b[0m\u001b[1;33m\u001b[0m\u001b[0m\n",
      "\u001b[1;31mModuleNotFoundError\u001b[0m: No module named 'google.colab'"
     ]
    }
   ],
   "source": [
    "from google.colab import drive\n",
    "drive.mount('/content/drive')"
   ]
  },
  {
   "cell_type": "code",
   "execution_count": null,
   "metadata": {
    "colab": {
     "base_uri": "https://localhost:8080/",
     "height": 67
    },
    "colab_type": "code",
    "id": "kG5w1SXpEutA",
    "outputId": "18de68b9-4a8a-49c3-e434-6ed8834f7f48"
   },
   "outputs": [],
   "source": [
    "! git clone https://github.com/ieee8023/covid-chestxray-dataset.git\n",
    "! git clone https://github.com/IliasPap/COVIDNet.git\n",
    "COPY_FILE = True\n",
    "! mkdir /content/rsna_dataset\n",
    "# add code for uploading Kaggle JSON file (individual token)from google.colab import filesfiles.upload()!mkdir -p ~/.kaggle!cp kaggle.json ~/.kaggle/# To prevent permission warning!chmod 600 ~/.kaggle/kaggle.json# Otherwise use kaggle commands, to be updated !!!!\n",
    "# ! kaggle competitions download -c rsna-pneumonia-detection-challenge -p /content/rsna_dataset\n",
    "! unzip -q '/content/drive/My Drive/MEDICAL/rsna-pneumonia-detection-challenge.zip' -d /content/rsna_dataset/\n"
   ]
  },
  {
   "cell_type": "code",
   "execution_count": null,
   "metadata": {
    "colab": {
     "base_uri": "https://localhost:8080/",
     "height": 34
    },
    "colab_type": "code",
    "id": "z5wJrNmlhvjT",
    "outputId": "8b591a26-a03a-4f84-a49a-7a8cf67c6987"
   },
   "outputs": [],
   "source": [
    "! pip install pydicom\n",
    "import numpy as np\n",
    "import pandas as pd\n",
    "import os\n",
    "import random \n",
    "from shutil import copyfile\n",
    "import pydicom as dicom\n",
    "import cv2"
   ]
  },
  {
   "cell_type": "code",
   "execution_count": null,
   "metadata": {
    "colab": {},
    "colab_type": "code",
    "id": "SWIYPPL9h1xZ"
   },
   "outputs": [],
   "source": [
    "\n",
    "seed = 0\n",
    "np.random.seed(seed) # Reset the seed so all runs are the same.\n",
    "random.seed(seed)\n",
    "MAXVAL = 255  # Range [0 255]\n",
    "root = '/content/covid-chestxray-dataset'\n",
    "\n",
    "if (COPY_FILE):\n",
    "    savepath = root + '/data'\n",
    "    if(not os.path.exists(savepath)):\n",
    "        os.makedirs(savepath)\n",
    "    savepath = root + '/data/train'\n",
    "    if(not os.path.exists(savepath)):\n",
    "        os.makedirs(savepath)\n",
    "    savepath = root + '/data/test'\n",
    "    if(not os.path.exists(savepath)):\n",
    "        os.makedirs(savepath)\n",
    "\n",
    "savepath = root + '/data'\n",
    "# path to covid-19 dataset from https://github.com/ieee8023/covid-chestxray-dataset\n",
    "imgpath = root + '/images' \n",
    "csvpath = root + '/metadata.csv'\n",
    "\n",
    "# path to https://www.kaggle.com/c/rsna-pneumonia-detection-challenge\n",
    "kaggle_datapath = '/content/rsna_kaggle_dataset'\n",
    "kaggle_csvname = 'stage_2_detailed_class_info.csv' # get all the normal from here\n",
    "kaggle_csvname2 = 'stage_2_train_labels.csv' # get all the 1s from here since 1 indicate pneumonia\n",
    "kaggle_imgpath = 'stage_2_train_images'\n",
    "\n",
    "# parameters for COVIDx dataset\n",
    "train = []\n",
    "test = []\n",
    "test_count = {'normal': 0, 'pneumonia': 0, 'COVID-19': 0}\n",
    "train_count = {'normal': 0, 'pneumonia': 0, 'COVID-19': 0}\n",
    "\n",
    "mapping = dict()\n",
    "mapping['COVID-19'] = 'COVID-19'\n",
    "mapping['SARS'] = 'pneumonia'\n",
    "mapping['MERS'] = 'pneumonia'\n",
    "mapping['Streptococcus'] = 'pneumonia'\n",
    "mapping['Normal'] = 'normal'\n",
    "mapping['Lung Opacity'] = 'pneumonia'\n",
    "mapping['1'] = 'pneumonia'\n",
    "\n",
    "# train/test split\n",
    "split = 0.1"
   ]
  },
  {
   "cell_type": "code",
   "execution_count": null,
   "metadata": {
    "colab": {},
    "colab_type": "code",
    "id": "0A40xmYriH6t"
   },
   "outputs": [],
   "source": [
    "# adapted from https://github.com/mlmed/torchxrayvision/blob/master/torchxrayvision/datasets.py#L814\n",
    "csv = pd.read_csv(csvpath, nrows=None)\n",
    "idx_pa = csv[\"view\"] == \"PA\"  # Keep only the PA view\n",
    "csv = csv[idx_pa]\n",
    "\n",
    "pneumonias = [\"COVID-19\", \"SARS\", \"MERS\", \"ARDS\", \"Streptococcus\"]\n",
    "pathologies = [\"Pneumonia\",\"Viral Pneumonia\", \"Bacterial Pneumonia\", \"No Finding\"] + pneumonias\n",
    "pathologies = sorted(pathologies)"
   ]
  },
  {
   "cell_type": "code",
   "execution_count": null,
   "metadata": {
    "colab": {
     "base_uri": "https://localhost:8080/",
     "height": 168
    },
    "colab_type": "code",
    "id": "3oCGULcBibv-",
    "outputId": "d25dc89b-c9d0-4f6e-f3ba-87b7a954b87e"
   },
   "outputs": [],
   "source": [
    "# get non-COVID19 viral, bacteria, and COVID-19 infections from covid-chestxray-dataset\n",
    "# stored as patient id, image filename and label\n",
    "filename_label = {'normal': [], 'pneumonia': [], 'COVID-19': []}\n",
    "count = {'normal': 0, 'pneumonia': 0, 'COVID-19': 0}\n",
    "print(csv.keys())\n",
    "for index, row in csv.iterrows():\n",
    "    f = row['finding']\n",
    "    if f in mapping:\n",
    "        count[mapping[f]] += 1\n",
    "        entry = [int(row['patientid']), row['filename'], mapping[f]]\n",
    "        filename_label[mapping[f]].append(entry)\n",
    "\n",
    "print('Data distribution from covid-chestxray-dataset:')\n",
    "print(count)"
   ]
  },
  {
   "cell_type": "code",
   "execution_count": null,
   "metadata": {
    "colab": {
     "base_uri": "https://localhost:8080/",
     "height": 118
    },
    "colab_type": "code",
    "id": "QZXOLpHZiz3q",
    "outputId": "581f165a-11a2-4909-db42-5d7737e1ddf6"
   },
   "outputs": [],
   "source": [
    "# add covid-chestxray-dataset into COVIDx dataset\n",
    "# since covid-chestxray-dataset doesn't have test dataset\n",
    "# split into train/test by patientid\n",
    "# for COVIDx:\n",
    "# patient 8 is used as non-COVID19 viral test\n",
    "# patient 31 is used as bacterial test\n",
    "# patients 19, 20, 36, 42, 86 are used as COVID-19 viral test\n",
    "\n",
    "for key in filename_label.keys():\n",
    "    arr = np.array(filename_label[key])\n",
    "    if arr.size == 0:\n",
    "        continue\n",
    "    # split by patients\n",
    "    # num_diff_patients = len(np.unique(arr[:,0]))\n",
    "    # num_test = max(1, round(split*num_diff_patients))\n",
    "    # select num_test number of random patients\n",
    "    if key == 'pneumonia':\n",
    "        test_patients = ['8', '31']\n",
    "    elif key == 'COVID-19':\n",
    "        test_patients = ['19', '20', '36', '42', '86'] # random.sample(list(arr[:,0]), num_test)\n",
    "    else: \n",
    "        test_patients = []\n",
    "    print('Key: ', key)\n",
    "    print('Test patients: ', test_patients)\n",
    "    # go through all the patients\n",
    "    for patient in arr:\n",
    "        if patient[0] in test_patients:\n",
    "            if (COPY_FILE):\n",
    "                copyfile(os.path.join(imgpath, patient[1]), os.path.join(savepath, 'test', patient[1]))\n",
    "                test.append(patient)\n",
    "                test_count[patient[2]] += 1\n",
    "            else:\n",
    "                print(\"WARNING   :   passing copy file !!!!!!!!!!!!!!!!!!!!!!\")\n",
    "                break\n",
    "        else:\n",
    "            if (COPY_FILE):\n",
    "                copyfile(os.path.join(imgpath, patient[1]), os.path.join(savepath, 'train', patient[1]))\n",
    "                train.append(patient)\n",
    "                train_count[patient[2]] += 1\n",
    "\n",
    "            else:\n",
    "                print(\"WARNING   :   passing copy file !!!!!!!!!!!!!!!!!!!!!!\")\n",
    "                break\n",
    "\n",
    "print('test count: ', test_count)\n",
    "print('train count: ', train_count)"
   ]
  },
  {
   "cell_type": "markdown",
   "metadata": {
    "colab_type": "text",
    "id": "HW2HHFi1Dra2"
   },
   "source": [
    "## Preprocess data\n",
    "Copy kaggle dataset inyto train and test folders"
   ]
  },
  {
   "cell_type": "code",
   "execution_count": null,
   "metadata": {
    "colab": {
     "base_uri": "https://localhost:8080/",
     "height": 67
    },
    "colab_type": "code",
    "id": "PG-qk6gXjZIB",
    "outputId": "a1d16342-4d5a-41a7-9b0e-5c7001b08eef"
   },
   "outputs": [],
   "source": [
    "# add normal and rest of pneumonia cases from https://www.kaggle.com/c/rsna-pneumonia-detection-challenge\n",
    "\n",
    "\n",
    "kaggle_datapath = '/content/rsna_dataset'\n",
    "\n",
    "print(kaggle_datapath)\n",
    "csv_normal = pd.read_csv(os.path.join(kaggle_datapath, kaggle_csvname), nrows=None)\n",
    "csv_pneu = pd.read_csv(os.path.join(kaggle_datapath, kaggle_csvname2), nrows=None)\n",
    "patients = {'normal': [], 'pneumonia': []}\n",
    "\n",
    "for index, row in csv_normal.iterrows():\n",
    "    if row['class'] == 'Normal':\n",
    "        patients['normal'].append(row['patientId'])\n",
    "\n",
    "for index, row in csv_pneu.iterrows():\n",
    "    if int(row['Target']) == 1:\n",
    "        patients['pneumonia'].append(row['patientId'])\n",
    "\n",
    "for key in patients.keys():\n",
    "    arr = np.array(patients[key])\n",
    "    if arr.size == 0:\n",
    "        continue\n",
    "    # split by patients \n",
    "    # num_diff_patients = len(np.unique(arr))\n",
    "    # num_test = max(1, round(split*num_diff_patients))\n",
    "    #'/content/COVID-Net/'\n",
    "    test_patients = np.load('/content/COVIDNet/rsna_test_patients_{}.npy'.format(key)) # random.sample(list(arr), num_test)\n",
    "    # np.save('rsna_test_patients_{}.npy'.format(key), np.array(test_patients))\n",
    "    for patient in arr:\n",
    "        ds = dicom.dcmread(os.path.join(kaggle_datapath, kaggle_imgpath, patient + '.dcm'))\n",
    "        pixel_array_numpy = ds.pixel_array\n",
    "        imgname = patient + '.png'\n",
    "        if patient in test_patients:\n",
    "            if (COPY_FILE):\n",
    "                cv2.imwrite(os.path.join(savepath, 'test', imgname), pixel_array_numpy)\n",
    "                test.append([patient, imgname, key])\n",
    "                test_count[key] += 1\n",
    "            else:\n",
    "                print(\"WARNING   :   passing copy file !!!!!!!!!!!!!!!!!!!!!!\")\n",
    "                break\n",
    "        else:\n",
    "            if (COPY_FILE):\n",
    "                cv2.imwrite(os.path.join(savepath, 'train', imgname), pixel_array_numpy)\n",
    "                train.append([patient, imgname, key])\n",
    "                train_count[key] += 1\n",
    "            else:\n",
    "                print(\"WARNING   :   passing copy file !!!!!!!!!!!!!!!!!!!!!!\")\n",
    "                break\n",
    "print('test count: ', test_count)\n",
    "print('train count: ', train_count)"
   ]
  },
  {
   "cell_type": "markdown",
   "metadata": {
    "colab_type": "text",
    "id": "9DQ4gYQkDxt_"
   },
   "source": [
    "## Final data stats"
   ]
  },
  {
   "cell_type": "code",
   "execution_count": null,
   "metadata": {
    "colab": {
     "base_uri": "https://localhost:8080/",
     "height": 101
    },
    "colab_type": "code",
    "id": "rofg8ddlX28e",
    "outputId": "d873753e-e43e-4967-dccf-e26aaed15e32"
   },
   "outputs": [],
   "source": [
    "# final stats\n",
    "print('Final stats')\n",
    "print('Train count: ', train_count)\n",
    "print('Test count: ', test_count)\n",
    "print('Total length of train: ', len(train))\n",
    "print('Total length of test: ', len(test))"
   ]
  },
  {
   "cell_type": "markdown",
   "metadata": {
    "colab_type": "text",
    "id": "zruYtB-8D1y4"
   },
   "source": [
    "## train and test file extraction"
   ]
  },
  {
   "cell_type": "code",
   "execution_count": null,
   "metadata": {
    "colab": {},
    "colab_type": "code",
    "id": "xh_E3s-AX3sm"
   },
   "outputs": [],
   "source": [
    "# export to train and test csv\n",
    "# format as patientid, filename, label, separated by a space\n",
    "train_file = open(\"train_split_v2.txt\",\"w\") \n",
    "for sample in train:\n",
    "    info = str(sample[0]) + ' ' + sample[1] + ' ' + sample[2] + '\\n'\n",
    "    train_file.write(info)\n",
    "\n",
    "train_file.close()\n",
    "\n",
    "test_file = open(\"test_split_v2.txt\", \"w\")\n",
    "for sample in test:\n",
    "    info = str(sample[0]) + ' ' + sample[1] + ' ' + sample[2] + '\\n'\n",
    "    test_file.write(info)\n",
    "\n",
    "test_file.close()"
   ]
  },
  {
   "cell_type": "markdown",
   "metadata": {
    "colab_type": "text",
    "id": "K1Z22FipJrgn"
   },
   "source": [
    "# Requirements"
   ]
  },
  {
   "cell_type": "code",
   "execution_count": null,
   "metadata": {
    "colab": {},
    "colab_type": "code",
    "id": "QuSxkmuebDuv"
   },
   "outputs": [],
   "source": [
    "! pip install torch torcvision pandas"
   ]
  },
  {
   "cell_type": "markdown",
   "metadata": {
    "colab_type": "text",
    "id": "kZkurGVMKFPf"
   },
   "source": [
    "# Training"
   ]
  },
  {
   "cell_type": "code",
   "execution_count": null,
   "metadata": {
    "colab": {
     "base_uri": "https://localhost:8080/",
     "height": 1000
    },
    "colab_type": "code",
    "id": "G9t--VlR7_F6",
    "outputId": "eadc51a7-ec83-4d52-a23a-ced6be945d18"
   },
   "outputs": [],
   "source": [
    "%cd COVIDNet\n",
    "! python main.py --dataset_name='COVIDx' --root_path='/content/covid-chestxray-dataset/data'"
   ]
  },
  {
   "cell_type": "code",
   "execution_count": null,
   "metadata": {},
   "outputs": [],
   "source": []
  }
 ],
 "metadata": {
  "accelerator": "GPU",
  "colab": {
   "collapsed_sections": [],
   "name": "COVIDNet.ipynb",
   "provenance": [],
   "toc_visible": true
  },
  "kernelspec": {
   "display_name": "Python 3",
   "language": "python",
   "name": "python3"
  },
  "language_info": {
   "codemirror_mode": {
    "name": "ipython",
    "version": 3
   },
   "file_extension": ".py",
   "mimetype": "text/x-python",
   "name": "python",
   "nbconvert_exporter": "python",
   "pygments_lexer": "ipython3",
   "version": "3.7.4"
  }
 },
 "nbformat": 4,
 "nbformat_minor": 1
}
